{
  "cells": [
    {
      "cell_type": "markdown",
      "metadata": {
        "id": "dGRC5vxkF9FH"
      },
      "source": [
        "DATA:\n",
        "\n",
        "Feature variables: SMS message\n",
        "\n",
        "Target Class: message type ( Ham, Spam) \n",
        "\n",
        "1500 sample\n",
        "\n",
        "\n",
        "### 5.1. Setup\n",
        "\n",
        "Install required text processing libraries for the example"
      ],
      "id": "dGRC5vxkF9FH"
    },
    {
      "cell_type": "code",
      "execution_count": 1,
      "metadata": {
        "id": "wES6b5HwF9FJ",
        "outputId": "962c0337-69bd-409c-9f01-eef7bff40849",
        "colab": {
          "base_uri": "https://localhost:8080/"
        }
      },
      "outputs": [
        {
          "output_type": "stream",
          "name": "stdout",
          "text": [
            "Looking in indexes: https://pypi.org/simple, https://us-python.pkg.dev/colab-wheels/public/simple/\n",
            "Requirement already satisfied: nltk in /usr/local/lib/python3.10/dist-packages (3.8.1)\n",
            "Requirement already satisfied: click in /usr/local/lib/python3.10/dist-packages (from nltk) (8.1.3)\n",
            "Requirement already satisfied: joblib in /usr/local/lib/python3.10/dist-packages (from nltk) (1.2.0)\n",
            "Requirement already satisfied: regex>=2021.8.3 in /usr/local/lib/python3.10/dist-packages (from nltk) (2022.10.31)\n",
            "Requirement already satisfied: tqdm in /usr/local/lib/python3.10/dist-packages (from nltk) (4.65.0)\n"
          ]
        },
        {
          "output_type": "stream",
          "name": "stderr",
          "text": [
            "[nltk_data] Downloading package stopwords to /root/nltk_data...\n",
            "[nltk_data]   Unzipping corpora/stopwords.zip.\n",
            "[nltk_data] Downloading package punkt to /root/nltk_data...\n",
            "[nltk_data]   Unzipping tokenizers/punkt.zip.\n",
            "[nltk_data] Downloading package wordnet to /root/nltk_data...\n"
          ]
        }
      ],
      "source": [
        "!pip install nltk\n",
        "\n",
        "import nltk\n",
        "\n",
        "nltk.download('stopwords')\n",
        "nltk.download('punkt')\n",
        "\n",
        "from nltk.corpus import stopwords\n",
        "\n",
        "nltk.download('wordnet')\n",
        "from nltk.stem import WordNetLemmatizer\n",
        "lemmatizer = WordNetLemmatizer()"
      ],
      "id": "wES6b5HwF9FJ"
    },
    {
      "cell_type": "markdown",
      "metadata": {
        "id": "Ox8T25dTF9FL"
      },
      "source": [
        "### 5.2. Creating Text Representations\n",
        "\n",
        "Text data needs to be converted to numeric representations before they can be used to train deep learning models. The Spam classification feature data is converted to TF-IDF vectors and the target variable is converted to one-hot encoding."
      ],
      "id": "Ox8T25dTF9FL"
    },
    {
      "cell_type": "code",
      "execution_count": 2,
      "metadata": {
        "id": "EDHw0iz-F9FL",
        "outputId": "946abcd0-6ade-42b4-e6c5-d7ab71bd5e2a",
        "colab": {
          "base_uri": "https://localhost:8080/"
        }
      },
      "outputs": [
        {
          "output_type": "stream",
          "name": "stdout",
          "text": [
            "\n",
            "Loaded Data :\n",
            "------------------------------------\n",
            "  CLASS                                                SMS\n",
            "0   ham   said kiss, kiss, i can't do the sound effects...\n",
            "1   ham      &lt;#&gt; ISH MINUTES WAS 5 MINUTES AGO. WTF.\n",
            "2  spam  (Bank of Granite issues Strong-Buy) EXPLOSIVE ...\n",
            "3  spam  * FREE* POLYPHONIC RINGTONE Text SUPER to 8713...\n",
            "4  spam  **FREE MESSAGE**Thanks for using the Auction S...\n"
          ]
        }
      ],
      "source": [
        "import pandas as pd\n",
        "import os\n",
        "import numpy as np\n",
        "from sklearn.model_selection import train_test_split\n",
        "from sklearn.preprocessing import scale\n",
        "\n",
        "#Load Spam Data and review content\n",
        "spam_data = pd.read_csv(\"Spam-Classification.csv\")\n",
        "\n",
        "print(\"\\nLoaded Data :\\n------------------------------------\")\n",
        "print(spam_data.head())\n",
        "\n",
        "#Separate feature and target data\n",
        "spam_classes_raw = spam_data[\"CLASS\"]\n",
        "spam_messages = spam_data[\"SMS\"]\n"
      ],
      "id": "EDHw0iz-F9FL"
    },
    {
      "cell_type": "code",
      "execution_count": 3,
      "metadata": {
        "id": "8keU544AF9FL",
        "outputId": "f5c36cd3-b1b5-428e-a674-5de2bfb69376",
        "colab": {
          "base_uri": "https://localhost:8080/"
        }
      },
      "outputs": [
        {
          "output_type": "stream",
          "name": "stderr",
          "text": [
            "/usr/local/lib/python3.10/dist-packages/sklearn/feature_extraction/text.py:528: UserWarning: The parameter 'token_pattern' will not be used since 'tokenizer' is not None'\n",
            "  warnings.warn(\n"
          ]
        },
        {
          "output_type": "stream",
          "name": "stdout",
          "text": [
            "TF-IDF Matrix Shape :  (1500, 4566)\n",
            "One-hot Encoding Shape :  (1500, 2)\n"
          ]
        }
      ],
      "source": [
        "\n",
        "import nltk\n",
        "import tensorflow as tf\n",
        "\n",
        "#Custom tokenizer to remove stopwords and use lemmatization\n",
        "def customtokenize(str):\n",
        "    #Split string as tokens\n",
        "    tokens=nltk.word_tokenize(str)\n",
        "    #Filter for stopwords\n",
        "    nostop = list(filter(lambda token: token not in stopwords.words('english'), tokens))\n",
        "    #Perform lemmatization\n",
        "    lemmatized=[lemmatizer.lemmatize(word) for word in nostop ]\n",
        "    return lemmatized\n",
        "\n",
        "from sklearn.feature_extraction.text import TfidfVectorizer\n",
        "\n",
        "#Build a TF-IDF Vectorizer model\n",
        "vectorizer = TfidfVectorizer(tokenizer=customtokenize)\n",
        "\n",
        "#Transform feature input to TF-IDF\n",
        "tfidf=vectorizer.fit_transform(spam_messages)\n",
        "#Convert TF-IDF to numpy array\n",
        "tfidf_array = tfidf.toarray()\n",
        "\n",
        "#Build a label encoder for target variable to convert strings to numeric values.\n",
        "from sklearn import preprocessing\n",
        "label_encoder = preprocessing.LabelEncoder()\n",
        "spam_classes = label_encoder.fit_transform(\n",
        "                                spam_classes_raw)\n",
        "\n",
        "#Convert target to one-hot encoding vector\n",
        "spam_classes = tf.keras.utils.to_categorical(spam_classes,2)\n",
        "\n",
        "print(\"TF-IDF Matrix Shape : \", tfidf.shape)\n",
        "print(\"One-hot Encoding Shape : \", spam_classes.shape)\n",
        "\n",
        "X_train,X_test,Y_train,Y_test = train_test_split( tfidf_array, spam_classes, test_size=0.10)"
      ],
      "id": "8keU544AF9FL"
    },
    {
      "cell_type": "markdown",
      "metadata": {
        "id": "uu-ZKPpmF9FM"
      },
      "source": [
        "### 5.3. Building and Evaluating the Model"
      ],
      "id": "uu-ZKPpmF9FM"
    },
    {
      "cell_type": "code",
      "execution_count": 4,
      "metadata": {
        "id": "IYoq2HvuF9FM",
        "outputId": "e468bff5-be53-4623-86f7-0d0588403046",
        "colab": {
          "base_uri": "https://localhost:8080/"
        }
      },
      "outputs": [
        {
          "output_type": "stream",
          "name": "stdout",
          "text": [
            "Model: \"sequential\"\n",
            "_________________________________________________________________\n",
            " Layer (type)                Output Shape              Param #   \n",
            "=================================================================\n",
            " Hidden-Layer-1 (Dense)      (None, 32)                146144    \n",
            "                                                                 \n",
            " Hidden-Layer-2 (Dense)      (None, 32)                1056      \n",
            "                                                                 \n",
            " Output-Layer (Dense)        (None, 2)                 66        \n",
            "                                                                 \n",
            "=================================================================\n",
            "Total params: 147,266\n",
            "Trainable params: 147,266\n",
            "Non-trainable params: 0\n",
            "_________________________________________________________________\n"
          ]
        }
      ],
      "source": [
        "from tensorflow import keras\n",
        "from tensorflow.keras import optimizers\n",
        "from tensorflow.keras.regularizers import l2\n",
        "\n",
        "#Setup Hyper Parameters for building the model\n",
        "NB_CLASSES=2\n",
        "N_HIDDEN=32\n",
        "\n",
        "model = tf.keras.models.Sequential()\n",
        "\n",
        "model.add(keras.layers.Dense(N_HIDDEN,\n",
        "                             input_shape=(X_train.shape[1],),\n",
        "                              name='Hidden-Layer-1',\n",
        "                              activation='relu'))\n",
        "\n",
        "model.add(keras.layers.Dense(N_HIDDEN,\n",
        "                              name='Hidden-Layer-2',\n",
        "                              activation='relu'))\n",
        "\n",
        "model.add(keras.layers.Dense(NB_CLASSES,\n",
        "                             name='Output-Layer',\n",
        "                             activation='softmax'))\n",
        "\n",
        "model.compile(loss='categorical_crossentropy',\n",
        "              metrics=['accuracy'])\n",
        "\n",
        "model.summary()\n"
      ],
      "id": "IYoq2HvuF9FM"
    },
    {
      "cell_type": "code",
      "execution_count": 5,
      "metadata": {
        "id": "hzHfHZ0qF9FM",
        "outputId": "ad5fabf3-de67-4111-e006-6ad729d36c3d",
        "colab": {
          "base_uri": "https://localhost:8080/",
          "height": 1000
        }
      },
      "outputs": [
        {
          "output_type": "stream",
          "name": "stdout",
          "text": [
            "\n",
            "Training Progress:\n",
            "------------------------------------\n",
            "Epoch 1/10\n",
            "5/5 [==============================] - 6s 58ms/step - loss: 0.6910 - accuracy: 0.5704 - val_loss: 0.6844 - val_accuracy: 0.7593\n",
            "Epoch 2/10\n",
            "5/5 [==============================] - 0s 12ms/step - loss: 0.6761 - accuracy: 0.8611 - val_loss: 0.6663 - val_accuracy: 0.8704\n",
            "Epoch 3/10\n",
            "5/5 [==============================] - 0s 12ms/step - loss: 0.6500 - accuracy: 0.9389 - val_loss: 0.6396 - val_accuracy: 0.9111\n",
            "Epoch 4/10\n",
            "5/5 [==============================] - 0s 12ms/step - loss: 0.6143 - accuracy: 0.9565 - val_loss: 0.6080 - val_accuracy: 0.9333\n",
            "Epoch 5/10\n",
            "5/5 [==============================] - 0s 12ms/step - loss: 0.5735 - accuracy: 0.9602 - val_loss: 0.5746 - val_accuracy: 0.9259\n",
            "Epoch 6/10\n",
            "5/5 [==============================] - 0s 12ms/step - loss: 0.5300 - accuracy: 0.9694 - val_loss: 0.5371 - val_accuracy: 0.9370\n",
            "Epoch 7/10\n",
            "5/5 [==============================] - 0s 12ms/step - loss: 0.4831 - accuracy: 0.9741 - val_loss: 0.4991 - val_accuracy: 0.9444\n",
            "Epoch 8/10\n",
            "5/5 [==============================] - 0s 12ms/step - loss: 0.4363 - accuracy: 0.9815 - val_loss: 0.4615 - val_accuracy: 0.9481\n",
            "Epoch 9/10\n",
            "5/5 [==============================] - 0s 12ms/step - loss: 0.3907 - accuracy: 0.9815 - val_loss: 0.4256 - val_accuracy: 0.9593\n",
            "Epoch 10/10\n",
            "5/5 [==============================] - 0s 12ms/step - loss: 0.3475 - accuracy: 0.9843 - val_loss: 0.3916 - val_accuracy: 0.9519\n",
            "\n",
            "Accuracy during Training :\n",
            "------------------------------------\n"
          ]
        },
        {
          "output_type": "display_data",
          "data": {
            "text/plain": [
              "<Figure size 800x500 with 1 Axes>"
            ],
            "image/png": "[encoded data removed]"
          },
          "metadata": {}
        },
        {
          "output_type": "stream",
          "name": "stdout",
          "text": [
            "\n",
            "Evaluation against Test Dataset :\n",
            "------------------------------------\n",
            "5/5 [==============================] - 0s 3ms/step - loss: 0.3863 - accuracy: 0.9533\n"
          ]
        },
        {
          "output_type": "execute_result",
          "data": {
            "text/plain": [
              "[0.38626572489738464, 0.95333331823349]"
            ]
          },
          "metadata": {},
          "execution_count": 5
        }
      ],
      "source": [
        "#Make it verbose so we can see the progress\n",
        "VERBOSE=1\n",
        "\n",
        "#Setup Hyper Parameters for training\n",
        "BATCH_SIZE=256\n",
        "EPOCHS=10\n",
        "VALIDATION_SPLIT=0.2\n",
        "\n",
        "print(\"\\nTraining Progress:\\n------------------------------------\")\n",
        "\n",
        "history=model.fit(X_train,\n",
        "          Y_train,\n",
        "          batch_size=BATCH_SIZE,\n",
        "          epochs=EPOCHS,\n",
        "          verbose=VERBOSE,\n",
        "          validation_split=VALIDATION_SPLIT)\n",
        "\n",
        "print(\"\\nAccuracy during Training :\\n------------------------------------\")\n",
        "import matplotlib.pyplot as plt\n",
        "\n",
        "pd.DataFrame(history.history)[\"accuracy\"].plot(figsize=(8, 5))\n",
        "plt.title(\"Accuracy improvements with Epoch\")\n",
        "plt.show()\n",
        "\n",
        "print(\"\\nEvaluation against Test Dataset :\\n------------------------------------\")\n",
        "model.evaluate(X_test,Y_test)"
      ],
      "id": "hzHfHZ0qF9FM"
    },
    {
      "cell_type": "markdown",
      "metadata": {
        "id": "LyyyyP9lF9FN"
      },
      "source": [
        "### 5.4. Predicting for Text"
      ],
      "id": "LyyyyP9lF9FN"
    },
    {
      "cell_type": "code",
      "execution_count": 6,
      "metadata": {
        "id": "kFsqYNMEF9FN",
        "outputId": "a6dcc34a-bebd-475c-8aa1-ec537079a542",
        "colab": {
          "base_uri": "https://localhost:8080/"
        }
      },
      "outputs": [
        {
          "output_type": "stream",
          "name": "stdout",
          "text": [
            "(2, 4566)\n",
            "1/1 [==============================] - 0s 81ms/step\n",
            "Prediction Output: [1 0]\n",
            "Prediction Classes are  ['spam' 'ham']\n"
          ]
        }
      ],
      "source": [
        "#Predict for multiple samples using batch processing\n",
        "\n",
        "#Convert input into IF-IDF vector using the same vectorizer model\n",
        "predict_tfidf=vectorizer.transform([\"FREE entry to a fun contest\",\n",
        "                                    \"Yup I will come over\"]).toarray()\n",
        "\n",
        "print(predict_tfidf.shape)\n",
        "\n",
        "#Predict using model\n",
        "prediction=np.argmax( model.predict(predict_tfidf), axis=1 )\n",
        "print(\"Prediction Output:\" , prediction)\n",
        "\n",
        "#Print prediction classes\n",
        "print(\"Prediction Classes are \", label_encoder.inverse_transform(prediction))"
      ],
      "id": "kFsqYNMEF9FN"
    },
    {
      "cell_type": "code",
      "execution_count": null,
      "metadata": {
        "id": "j45rjoryF9FN"
      },
      "outputs": [],
      "source": [],
      "id": "j45rjoryF9FN"
    }
  ],
  "metadata": {
    "kernelspec": {
      "display_name": "Python 3",
      "language": "python",
      "name": "python3"
    },
    "language_info": {
      "codemirror_mode": {
        "name": "ipython",
        "version": 3
      },
      "file_extension": ".py",
      "mimetype": "text/x-python",
      "name": "python",
      "nbconvert_exporter": "python",
      "pygments_lexer": "ipython3",
      "version": "3.8.5"
    },
    "colab": {
      "provenance": [],
      "machine_shape": "hm",
      "gpuType": "A100"
    },
    "accelerator": "GPU",
    "gpuClass": "standard"
  },
  "nbformat": 4,
  "nbformat_minor": 5
}